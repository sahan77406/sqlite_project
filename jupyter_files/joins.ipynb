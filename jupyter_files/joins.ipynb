{
 "cells": [
  {
   "cell_type": "code",
   "execution_count": 6,
   "metadata": {},
   "outputs": [],
   "source": [
    "import os\n",
    "import sqlite3\n",
    "\n",
    "# Connect to the SQLite database (or create it if it doesn't exist)\n",
    "database_dir = os.path.abspath(os.path.join(os.getcwd(), \"..\", \"database\"))\n",
    "db_path = os.path.join(database_dir, 'flowers.db')\n",
    "conn = sqlite3.connect(db_path)\n",
    "cursor = conn.cursor()"
   ]
  },
  {
   "cell_type": "code",
   "execution_count": 7,
   "metadata": {},
   "outputs": [
    {
     "name": "stdout",
     "output_type": "stream",
     "text": [
      "Inner Join Result:\n",
      "CommonName: Rose\n",
      "LightRequirements: Full Sun\n",
      "WateringSchedule: Regular\n",
      "------------------------------\n",
      "CommonName: Tulip\n",
      "LightRequirements: Partial Sun\n",
      "WateringSchedule: Moderate\n",
      "------------------------------\n",
      "CommonName: Sunflower\n",
      "LightRequirements: Full Sun\n",
      "WateringSchedule: Frequent\n",
      "------------------------------\n",
      "CommonName: Daisy\n",
      "LightRequirements: Full Sun\n",
      "WateringSchedule: Regular\n",
      "------------------------------\n"
     ]
    }
   ],
   "source": [
    "# SQL INNER JOIN\n",
    "cursor.execute('''\n",
    "    SELECT F.CommonName, CG.LightRequirements, CG.WateringSchedule\n",
    "    FROM Flowers F\n",
    "    INNER JOIN CareGuides CG ON F.FlowerID = CG.FlowerID\n",
    "''')\n",
    "inner_join_result = cursor.fetchall()\n",
    "\n",
    "# Print the result in a formatted way\n",
    "print(\"Inner Join Result:\")\n",
    "for row in inner_join_result:\n",
    "    print(\"CommonName:\", row[0])\n",
    "    print(\"LightRequirements:\", row[1])\n",
    "    print(\"WateringSchedule:\", row[2])\n",
    "    print(\"-\" * 30)  # Separator between rows\n",
    "\n",
    "# Close the cursor and connection\n",
    "# cursor.close()\n",
    "# conn.close()\n"
   ]
  },
  {
   "cell_type": "code",
   "execution_count": 8,
   "metadata": {},
   "outputs": [
    {
     "name": "stdout",
     "output_type": "stream",
     "text": [
      "Left Join Result:\n",
      "CommonName: Rose\n",
      "PurchaseDate: 2023-08-25\n",
      "Quantity: 10\n",
      "------------------------------\n",
      "CommonName: Tulip\n",
      "PurchaseDate: 2023-07-15\n",
      "Quantity: 25\n",
      "------------------------------\n",
      "CommonName: Sunflower\n",
      "PurchaseDate: 2023-06-02\n",
      "Quantity: 5\n",
      "------------------------------\n",
      "CommonName: Daisy\n",
      "PurchaseDate: 2023-07-01\n",
      "Quantity: 12\n",
      "------------------------------\n",
      "CommonName: Carnation\n",
      "PurchaseDate: None\n",
      "Quantity: None\n",
      "------------------------------\n"
     ]
    }
   ],
   "source": [
    "# SQL LEFT JOIN\n",
    "cursor.execute('''\n",
    "    SELECT F.CommonName, P.PurchaseDate, P.Quantity\n",
    "    FROM Flowers F\n",
    "    LEFT JOIN Purchases P ON F.FlowerID = P.FlowerID\n",
    "''')\n",
    "left_join_result = cursor.fetchall()\n",
    "\n",
    "# Print the result in a formatted way\n",
    "print(\"Left Join Result:\")\n",
    "for row in left_join_result:\n",
    "    print(\"CommonName:\", row[0])\n",
    "    print(\"PurchaseDate:\", row[1])\n",
    "    print(\"Quantity:\", row[2])\n",
    "    print(\"-\" * 30)  # Separator between rows\n",
    "\n",
    "# Close the cursor and connection\n",
    "# cursor.close()\n",
    "# conn.close()\n"
   ]
  },
  {
   "cell_type": "code",
   "execution_count": 9,
   "metadata": {},
   "outputs": [
    {
     "name": "stdout",
     "output_type": "stream",
     "text": [
      "Right Join Result:\n",
      "PurchaseDate: 2023-08-25\n",
      "Quantity: 10\n",
      "CommonName: Rose\n",
      "------------------------------\n",
      "PurchaseDate: 2023-07-15\n",
      "Quantity: 25\n",
      "CommonName: Tulip\n",
      "------------------------------\n",
      "PurchaseDate: 2023-06-02\n",
      "Quantity: 5\n",
      "CommonName: Sunflower\n",
      "------------------------------\n",
      "PurchaseDate: 2023-08-10\n",
      "Quantity: 8\n",
      "CommonName: None\n",
      "------------------------------\n",
      "PurchaseDate: 2023-07-01\n",
      "Quantity: 12\n",
      "CommonName: Daisy\n",
      "------------------------------\n"
     ]
    }
   ],
   "source": [
    "# SQL RIGHT JOIN\n",
    "cursor.execute('''\n",
    "    SELECT P.PurchaseDate, P.Quantity, F.CommonName\n",
    "    FROM Purchases P\n",
    "    LEFT JOIN Flowers F ON P.FlowerID = F.FlowerID\n",
    "''')\n",
    "right_join_result = cursor.fetchall()\n",
    "\n",
    "# Print the result in a formatted way\n",
    "print(\"Right Join Result:\")\n",
    "for row in right_join_result:\n",
    "    print(\"PurchaseDate:\", row[0])\n",
    "    print(\"Quantity:\", row[1])\n",
    "    print(\"CommonName:\", row[2])\n",
    "    print(\"-\" * 30)  # Separator between rows\n",
    "\n",
    "# Close the cursor and connection\n",
    "# cursor.close()\n",
    "# conn.close()\n"
   ]
  },
  {
   "cell_type": "code",
   "execution_count": 10,
   "metadata": {},
   "outputs": [
    {
     "name": "stdout",
     "output_type": "stream",
     "text": [
      "Full Outer Join Result:\n",
      "CommonName: None\n",
      "PurchaseDate: 2023-08-10\n",
      "Quantity: 8\n",
      "------------------------------\n",
      "CommonName: Carnation\n",
      "PurchaseDate: None\n",
      "Quantity: None\n",
      "------------------------------\n",
      "CommonName: Daisy\n",
      "PurchaseDate: 2023-07-01\n",
      "Quantity: 12\n",
      "------------------------------\n",
      "CommonName: Rose\n",
      "PurchaseDate: 2023-08-25\n",
      "Quantity: 10\n",
      "------------------------------\n",
      "CommonName: Sunflower\n",
      "PurchaseDate: 2023-06-02\n",
      "Quantity: 5\n",
      "------------------------------\n",
      "CommonName: Tulip\n",
      "PurchaseDate: 2023-07-15\n",
      "Quantity: 25\n",
      "------------------------------\n"
     ]
    }
   ],
   "source": [
    "# Simulated FULL OUTER JOIN using UNION of LEFT JOIN and RIGHT JOIN\n",
    "full_outer_join_query = '''\n",
    "    SELECT F.CommonName, P.PurchaseDate, P.Quantity\n",
    "    FROM Flowers F\n",
    "    LEFT JOIN Purchases P ON F.FlowerID = P.FlowerID\n",
    "    UNION\n",
    "    SELECT F.CommonName, P.PurchaseDate, P.Quantity\n",
    "    FROM Purchases P\n",
    "    LEFT JOIN Flowers F ON P.FlowerID = F.FlowerID\n",
    "    WHERE F.FlowerID IS NULL\n",
    "'''\n",
    "full_outer_join_result = cursor.execute(full_outer_join_query).fetchall()\n",
    "\n",
    "# Print the result in a formatted way\n",
    "print(\"Full Outer Join Result:\")\n",
    "for row in full_outer_join_result:\n",
    "    print(\"CommonName:\", row[0])\n",
    "    print(\"PurchaseDate:\", row[1])\n",
    "    print(\"Quantity:\", row[2])\n",
    "    print(\"-\" * 30)  # Separator between rows\n",
    "\n",
    "# Close the cursor and connection\n",
    "# cursor.close()\n",
    "# conn.close()\n"
   ]
  }
 ],
 "metadata": {
  "kernelspec": {
   "display_name": "Python 3",
   "language": "python",
   "name": "python3"
  },
  "language_info": {
   "codemirror_mode": {
    "name": "ipython",
    "version": 3
   },
   "file_extension": ".py",
   "mimetype": "text/x-python",
   "name": "python",
   "nbconvert_exporter": "python",
   "pygments_lexer": "ipython3",
   "version": "3.11.5"
  },
  "orig_nbformat": 4
 },
 "nbformat": 4,
 "nbformat_minor": 2
}
