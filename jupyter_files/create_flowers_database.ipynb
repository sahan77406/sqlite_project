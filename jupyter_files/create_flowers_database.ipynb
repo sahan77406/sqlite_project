{
 "cells": [
  {
   "cell_type": "markdown",
   "metadata": {},
   "source": [
    "Create SQLite Database"
   ]
  },
  {
   "cell_type": "code",
   "execution_count": 24,
   "metadata": {},
   "outputs": [
    {
     "name": "stdout",
     "output_type": "stream",
     "text": [
      "Empty database file 'flowers.db' created at 'flowers.db'\n"
     ]
    }
   ],
   "source": [
    "\n",
    "# import os: Imports the os module which provides functions for interacting with the operating system.\n",
    "import os\n",
    "# import sqlite3: Imports the sqlite3 module which allows you to work with SQLite databases.\n",
    "import sqlite3\n",
    "\n",
    "# This line sets the database_dir variable to the absolute path of the 'database' directory.\n",
    "# It uses the os.getcwd() function to get the current working directory and then joins it with the relative path to the 'database' directory.\n",
    "# Set the path to the 'database' directory within the project\n",
    "database_dir = os.path.abspath(os.path.join(os.getcwd(), \"..\", \"database\"))\n",
    "\n",
    "# This checks if the 'database' directory doesn't exist and creates it using os.makedirs() if it's not already present.\n",
    "# Create the 'database' directory if it doesn't exist\n",
    "if not os.path.exists(database_dir):\n",
    "    os.makedirs(database_dir)\n",
    "\n",
    "# This line sets the db_path variable to the full path of the database file 'flowerss.db' within the 'database' directory.\n",
    "# Set the path to the 'flowerss.db' database file\n",
    "db_path = os.path.join(database_dir, 'flowers.db')\n",
    "\n",
    "# This line establishes a connection to the SQLite database using the sqlite3.connect() function. The connection is stored in the conn variable.\n",
    "# Create the database file\n",
    "conn = sqlite3.connect(db_path)\n",
    "\n",
    "# This line closes the database connection using the close() method. It's important to close the connection after you're done working with the database.\n",
    "conn.close()\n",
    "\n",
    "# print(f\"Empty database file 'flowers.db' created at '{db_path}'\")\n",
    "print(f\"Empty database file 'flowers.db' created at '{os.path.basename(db_path)}'\")"
   ]
  },
  {
   "cell_type": "markdown",
   "metadata": {},
   "source": [
    "Verify that the database created"
   ]
  },
  {
   "cell_type": "code",
   "execution_count": 25,
   "metadata": {},
   "outputs": [
    {
     "name": "stdout",
     "output_type": "stream",
     "text": [
      "All tests passed.\n"
     ]
    }
   ],
   "source": [
    "import os\n",
    "import sqlite3\n",
    "\n",
    "def existing_database_properties_test(db_path):\n",
    "    assert os.path.exists(db_path), \"Database file does not exist.\"\n",
    "    assert os.path.isfile(db_path), \"Path is not a file.\"\n",
    "    assert os.path.getsize(db_path) == 0, \"Database file is not empty.\"\n",
    "\n",
    "def run_tests():\n",
    "    database_dir = os.path.abspath(os.path.join(os.getcwd(), \"..\", \"database\"))\n",
    "    db_path = os.path.join(database_dir, 'flowers.db')\n",
    "\n",
    "    try:\n",
    "        conn = sqlite3.connect(db_path)\n",
    "        conn.close()\n",
    "\n",
    "        existing_database_properties_test(db_path)\n",
    "        print(\"All tests passed.\")\n",
    "    except AssertionError as e:\n",
    "        print(\"Test failed:\", e)\n",
    "\n",
    "if __name__ == \"__main__\":\n",
    "    run_tests()\n"
   ]
  }
 ],
 "metadata": {
  "kernelspec": {
   "display_name": "Python 3",
   "language": "python",
   "name": "python3"
  },
  "language_info": {
   "codemirror_mode": {
    "name": "ipython",
    "version": 3
   },
   "file_extension": ".py",
   "mimetype": "text/x-python",
   "name": "python",
   "nbconvert_exporter": "python",
   "pygments_lexer": "ipython3",
   "version": "3.11.5"
  },
  "orig_nbformat": 4
 },
 "nbformat": 4,
 "nbformat_minor": 2
}
