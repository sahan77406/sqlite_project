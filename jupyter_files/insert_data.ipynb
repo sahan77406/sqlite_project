{
 "cells": [
  {
   "cell_type": "code",
   "execution_count": 1,
   "metadata": {},
   "outputs": [
    {
     "name": "stdout",
     "output_type": "stream",
     "text": [
      "Imaginary data inserted successfully.\n"
     ]
    }
   ],
   "source": [
    "import os\n",
    "import sqlite3\n",
    "\n",
    "def insert_imaginary_data(db_path):\n",
    "    conn = sqlite3.connect(db_path)\n",
    "    cursor = conn.cursor()\n",
    "\n",
    "    flowers_data = [\n",
    "        (1, \"Rose\", \"Rosa\", \"Rosaceae\", \"Red\", \"Spring\"),\n",
    "        (2, \"Tulip\", \"Tulipa\", \"Liliaceae\", \"Various\", \"Spring\"),\n",
    "        (3, \"Sunflower\", \"Helianthus\", \"Asteraceae\", \"Yellow\", \"Summer\"),\n",
    "        (4, \"Lily\", \"Lilium\", \"Liliaceae\", \"White\", \"Summer\"),\n",
    "        (5, \"Daisy\", \"Bellis\", \"Asteraceae\", \"White\", \"Spring\")\n",
    "    ]\n",
    "\n",
    "    locations_data = [\n",
    "        (1, \"Botanical Garden\", \"Cityville\", \"Countryland\", \"Temperate\", 300),\n",
    "        (2, \"Backyard\", \"Suburbia\", \"Homeland\", \"Moderate\", 100),\n",
    "        (3, \"Mountain Slopes\", \"Mountaintown\", \"Mountaincountry\", \"Cool\", 1500),\n",
    "        (4, \"Desert Oasis\", \"Desertcity\", \"Desertland\", \"Hot\", 200),\n",
    "        (5, \"Coastal Beach\", \"Beachtown\", \"Sealand\", \"Humid\", 10)\n",
    "    ]\n",
    "\n",
    "    care_guides_data = [\n",
    "        (1, 1, \"Full Sun\", \"Regular\", \"Well-draining\", \"Prune after flowering\"),\n",
    "        (2, 2, \"Partial Sun\", \"Moderate\", \"Loamy\", \"Remove faded flowers\"),\n",
    "        (3, 3, \"Full Sun\", \"Frequent\", \"Sandy\", \"Pinch back for bushiness\"),\n",
    "        (4, 4, \"Partial Shade\", \"Regular\", \"Rich and moist\", \"Deadhead spent flowers\"),\n",
    "        (5, 5, \"Full Sun\", \"Regular\", \"Well-draining\", \"Trim to encourage branching\")\n",
    "    ]\n",
    "\n",
    "    purchases_data = [\n",
    "        (1, 1, 1, \"2023-08-25\", 10, 50.00),\n",
    "        (2, 2, 3, \"2023-07-15\", 25, 30.00),\n",
    "        (3, 3, 2, \"2023-06-02\", 5, 15.00),\n",
    "        (4, 4, 4, \"2023-08-10\", 8, 40.00),\n",
    "        (5, 5, 5, \"2023-07-01\", 12, 20.00)\n",
    "    ]\n",
    "\n",
    "    cursor.executemany('''\n",
    "        INSERT INTO Flowers (FlowerID, CommonName, ScientificName, Family, Color, BloomSeason)\n",
    "        VALUES (?, ?, ?, ?, ?, ?)\n",
    "    ''', flowers_data)\n",
    "\n",
    "    cursor.executemany('''\n",
    "        INSERT INTO Locations (LocationID, LocationName, City, Country, Climate, Altitude)\n",
    "        VALUES (?, ?, ?, ?, ?, ?)\n",
    "    ''', locations_data)\n",
    "\n",
    "    cursor.executemany('''\n",
    "        INSERT INTO CareGuides (GuideID, FlowerID, LightRequirements, WateringSchedule, SoilType, PruningInfo)\n",
    "        VALUES (?, ?, ?, ?, ?, ?)\n",
    "    ''', care_guides_data)\n",
    "\n",
    "    cursor.executemany('''\n",
    "        INSERT INTO Purchases (PurchaseID, FlowerID, LocationID, PurchaseDate, Quantity, TotalCost)\n",
    "        VALUES (?, ?, ?, ?, ?, ?)\n",
    "    ''', purchases_data)\n",
    "\n",
    "    conn.commit()\n",
    "    conn.close()\n",
    "\n",
    "if __name__ == '__main__':\n",
    "    database_dir = os.path.abspath(os.path.join(os.getcwd(), \"..\", \"database\"))\n",
    "    db_path = os.path.join(database_dir, 'flowers.db')\n",
    "    insert_imaginary_data(db_path)\n",
    "    print(\"Imaginary data inserted successfully.\")\n"
   ]
  },
  {
   "cell_type": "code",
   "execution_count": 2,
   "metadata": {},
   "outputs": [
    {
     "name": "stdout",
     "output_type": "stream",
     "text": [
      "Data insertion test passed.\n"
     ]
    }
   ],
   "source": [
    "import os\n",
    "import sqlite3\n",
    "\n",
    "def test_data_insertion(db_path):\n",
    "    conn = sqlite3.connect(db_path)\n",
    "    cursor = conn.cursor()\n",
    "\n",
    "    # Verify data in Flowers table\n",
    "    cursor.execute(\"SELECT * FROM Flowers\")\n",
    "    flowers_data = cursor.fetchall()\n",
    "    assert len(flowers_data) == 5, \"Incorrect number of rows in Flowers table\"\n",
    "\n",
    "    # Verify data in Locations table\n",
    "    cursor.execute(\"SELECT * FROM Locations\")\n",
    "    locations_data = cursor.fetchall()\n",
    "    assert len(locations_data) == 5, \"Incorrect number of rows in Locations table\"\n",
    "\n",
    "    # Verify data in CareGuides table\n",
    "    cursor.execute(\"SELECT * FROM CareGuides\")\n",
    "    care_guides_data = cursor.fetchall()\n",
    "    assert len(care_guides_data) == 5, \"Incorrect number of rows in CareGuides table\"\n",
    "\n",
    "    # Verify data in Purchases table\n",
    "    cursor.execute(\"SELECT * FROM Purchases\")\n",
    "    purchases_data = cursor.fetchall()\n",
    "    assert len(purchases_data) == 5, \"Incorrect number of rows in Purchases table\"\n",
    "\n",
    "    conn.close()\n",
    "\n",
    "if __name__ == '__main__':\n",
    "    database_dir = os.path.abspath(os.path.join(os.getcwd(), \"..\", \"database\"))\n",
    "    db_path = os.path.join(database_dir, 'flowers.db')\n",
    "    test_data_insertion(db_path)\n",
    "    print(\"Data insertion test passed.\")\n"
   ]
  }
 ],
 "metadata": {
  "kernelspec": {
   "display_name": "Python 3",
   "language": "python",
   "name": "python3"
  },
  "language_info": {
   "codemirror_mode": {
    "name": "ipython",
    "version": 3
   },
   "file_extension": ".py",
   "mimetype": "text/x-python",
   "name": "python",
   "nbconvert_exporter": "python",
   "pygments_lexer": "ipython3",
   "version": "3.11.5"
  },
  "orig_nbformat": 4
 },
 "nbformat": 4,
 "nbformat_minor": 2
}
