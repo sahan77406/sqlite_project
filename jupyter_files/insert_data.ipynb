{
 "cells": [
  {
   "cell_type": "code",
   "execution_count": 2,
   "metadata": {},
   "outputs": [
    {
     "ename": "OperationalError",
     "evalue": "no such table: Flowers",
     "output_type": "error",
     "traceback": [
      "\u001b[1;31m---------------------------------------------------------------------------\u001b[0m",
      "\u001b[1;31mOperationalError\u001b[0m                          Traceback (most recent call last)",
      "Cell \u001b[1;32mIn[2], line 65\u001b[0m\n\u001b[0;32m     63\u001b[0m \u001b[39mif\u001b[39;00m \u001b[39m__name__\u001b[39m \u001b[39m==\u001b[39m \u001b[39m'\u001b[39m\u001b[39m__main__\u001b[39m\u001b[39m'\u001b[39m:\n\u001b[0;32m     64\u001b[0m     db_path \u001b[39m=\u001b[39m \u001b[39m'\u001b[39m\u001b[39mflowers.db\u001b[39m\u001b[39m'\u001b[39m  \u001b[39m# Change this to your actual database path\u001b[39;00m\n\u001b[1;32m---> 65\u001b[0m     insert_imaginary_data(db_path)\n\u001b[0;32m     66\u001b[0m     \u001b[39mprint\u001b[39m(\u001b[39m\"\u001b[39m\u001b[39mImaginary data inserted successfully.\u001b[39m\u001b[39m\"\u001b[39m)\n",
      "Cell \u001b[1;32mIn[2], line 40\u001b[0m, in \u001b[0;36minsert_imaginary_data\u001b[1;34m(db_path)\u001b[0m\n\u001b[0;32m     24\u001b[0m care_guides_data \u001b[39m=\u001b[39m [\n\u001b[0;32m     25\u001b[0m     (\u001b[39m1\u001b[39m, \u001b[39m1\u001b[39m, \u001b[39m\"\u001b[39m\u001b[39mFull Sun\u001b[39m\u001b[39m\"\u001b[39m, \u001b[39m\"\u001b[39m\u001b[39mRegular\u001b[39m\u001b[39m\"\u001b[39m, \u001b[39m\"\u001b[39m\u001b[39mWell-draining\u001b[39m\u001b[39m\"\u001b[39m, \u001b[39m\"\u001b[39m\u001b[39mPrune after flowering\u001b[39m\u001b[39m\"\u001b[39m),\n\u001b[0;32m     26\u001b[0m     (\u001b[39m2\u001b[39m, \u001b[39m2\u001b[39m, \u001b[39m\"\u001b[39m\u001b[39mPartial Sun\u001b[39m\u001b[39m\"\u001b[39m, \u001b[39m\"\u001b[39m\u001b[39mModerate\u001b[39m\u001b[39m\"\u001b[39m, \u001b[39m\"\u001b[39m\u001b[39mLoamy\u001b[39m\u001b[39m\"\u001b[39m, \u001b[39m\"\u001b[39m\u001b[39mRemove faded flowers\u001b[39m\u001b[39m\"\u001b[39m),\n\u001b[1;32m   (...)\u001b[0m\n\u001b[0;32m     29\u001b[0m     (\u001b[39m5\u001b[39m, \u001b[39m5\u001b[39m, \u001b[39m\"\u001b[39m\u001b[39mFull Sun\u001b[39m\u001b[39m\"\u001b[39m, \u001b[39m\"\u001b[39m\u001b[39mRegular\u001b[39m\u001b[39m\"\u001b[39m, \u001b[39m\"\u001b[39m\u001b[39mWell-draining\u001b[39m\u001b[39m\"\u001b[39m, \u001b[39m\"\u001b[39m\u001b[39mTrim to encourage branching\u001b[39m\u001b[39m\"\u001b[39m)\n\u001b[0;32m     30\u001b[0m ]\n\u001b[0;32m     32\u001b[0m purchases_data \u001b[39m=\u001b[39m [\n\u001b[0;32m     33\u001b[0m     (\u001b[39m1\u001b[39m, \u001b[39m1\u001b[39m, \u001b[39m1\u001b[39m, \u001b[39m\"\u001b[39m\u001b[39m2023-08-25\u001b[39m\u001b[39m\"\u001b[39m, \u001b[39m10\u001b[39m, \u001b[39m50.00\u001b[39m),\n\u001b[0;32m     34\u001b[0m     (\u001b[39m2\u001b[39m, \u001b[39m2\u001b[39m, \u001b[39m3\u001b[39m, \u001b[39m\"\u001b[39m\u001b[39m2023-07-15\u001b[39m\u001b[39m\"\u001b[39m, \u001b[39m25\u001b[39m, \u001b[39m30.00\u001b[39m),\n\u001b[1;32m   (...)\u001b[0m\n\u001b[0;32m     37\u001b[0m     (\u001b[39m5\u001b[39m, \u001b[39m5\u001b[39m, \u001b[39m5\u001b[39m, \u001b[39m\"\u001b[39m\u001b[39m2023-07-01\u001b[39m\u001b[39m\"\u001b[39m, \u001b[39m12\u001b[39m, \u001b[39m20.00\u001b[39m)\n\u001b[0;32m     38\u001b[0m ]\n\u001b[1;32m---> 40\u001b[0m cursor\u001b[39m.\u001b[39;49mexecutemany(\u001b[39m'''\u001b[39;49m\n\u001b[0;32m     41\u001b[0m \u001b[39m    INSERT INTO Flowers (FlowerID, CommonName, ScientificName, Family, Color, BloomSeason)\u001b[39;49m\n\u001b[0;32m     42\u001b[0m \u001b[39m    VALUES (?, ?, ?, ?, ?, ?)\u001b[39;49m\n\u001b[0;32m     43\u001b[0m \u001b[39m\u001b[39;49m\u001b[39m'''\u001b[39;49m, flowers_data)\n\u001b[0;32m     45\u001b[0m cursor\u001b[39m.\u001b[39mexecutemany(\u001b[39m'''\u001b[39m\n\u001b[0;32m     46\u001b[0m \u001b[39m    INSERT INTO Locations (LocationID, LocationName, City, Country, Climate, Altitude)\u001b[39m\n\u001b[0;32m     47\u001b[0m \u001b[39m    VALUES (?, ?, ?, ?, ?, ?)\u001b[39m\n\u001b[0;32m     48\u001b[0m \u001b[39m\u001b[39m\u001b[39m'''\u001b[39m, locations_data)\n\u001b[0;32m     50\u001b[0m cursor\u001b[39m.\u001b[39mexecutemany(\u001b[39m'''\u001b[39m\n\u001b[0;32m     51\u001b[0m \u001b[39m    INSERT INTO CareGuides (GuideID, FlowerID, LightRequirements, WateringSchedule, SoilType, PruningInfo)\u001b[39m\n\u001b[0;32m     52\u001b[0m \u001b[39m    VALUES (?, ?, ?, ?, ?, ?)\u001b[39m\n\u001b[0;32m     53\u001b[0m \u001b[39m\u001b[39m\u001b[39m'''\u001b[39m, care_guides_data)\n",
      "\u001b[1;31mOperationalError\u001b[0m: no such table: Flowers"
     ]
    }
   ],
   "source": [
    "import os\n",
    "import sqlite3\n",
    "\n",
    "def insert_imaginary_data(db_path):\n",
    "    conn = sqlite3.connect(db_path)\n",
    "    cursor = conn.cursor()\n",
    "\n",
    "    flowers_data = [\n",
    "        (1, \"Rose\", \"Rosa\", \"Rosaceae\", \"Red\", \"Spring\"),\n",
    "        (2, \"Tulip\", \"Tulipa\", \"Liliaceae\", \"Various\", \"Spring\"),\n",
    "        (3, \"Sunflower\", \"Helianthus\", \"Asteraceae\", \"Yellow\", \"Summer\"),\n",
    "        (4, \"Lily\", \"Lilium\", \"Liliaceae\", \"White\", \"Summer\"),\n",
    "        (5, \"Daisy\", \"Bellis\", \"Asteraceae\", \"White\", \"Spring\")\n",
    "    ]\n",
    "\n",
    "    locations_data = [\n",
    "        (1, \"Botanical Garden\", \"Cityville\", \"Countryland\", \"Temperate\", 300),\n",
    "        (2, \"Backyard\", \"Suburbia\", \"Homeland\", \"Moderate\", 100),\n",
    "        (3, \"Mountain Slopes\", \"Mountaintown\", \"Mountaincountry\", \"Cool\", 1500),\n",
    "        (4, \"Desert Oasis\", \"Desertcity\", \"Desertland\", \"Hot\", 200),\n",
    "        (5, \"Coastal Beach\", \"Beachtown\", \"Sealand\", \"Humid\", 10)\n",
    "    ]\n",
    "\n",
    "    care_guides_data = [\n",
    "        (1, 1, \"Full Sun\", \"Regular\", \"Well-draining\", \"Prune after flowering\"),\n",
    "        (2, 2, \"Partial Sun\", \"Moderate\", \"Loamy\", \"Remove faded flowers\"),\n",
    "        (3, 3, \"Full Sun\", \"Frequent\", \"Sandy\", \"Pinch back for bushiness\"),\n",
    "        (4, 4, \"Partial Shade\", \"Regular\", \"Rich and moist\", \"Deadhead spent flowers\"),\n",
    "        (5, 5, \"Full Sun\", \"Regular\", \"Well-draining\", \"Trim to encourage branching\")\n",
    "    ]\n",
    "\n",
    "    purchases_data = [\n",
    "        (1, 1, 1, \"2023-08-25\", 10, 50.00),\n",
    "        (2, 2, 3, \"2023-07-15\", 25, 30.00),\n",
    "        (3, 3, 2, \"2023-06-02\", 5, 15.00),\n",
    "        (4, 4, 4, \"2023-08-10\", 8, 40.00),\n",
    "        (5, 5, 5, \"2023-07-01\", 12, 20.00)\n",
    "    ]\n",
    "\n",
    "    cursor.executemany('''\n",
    "        INSERT INTO Flowers (FlowerID, CommonName, ScientificName, Family, Color, BloomSeason)\n",
    "        VALUES (?, ?, ?, ?, ?, ?)\n",
    "    ''', flowers_data)\n",
    "\n",
    "    cursor.executemany('''\n",
    "        INSERT INTO Locations (LocationID, LocationName, City, Country, Climate, Altitude)\n",
    "        VALUES (?, ?, ?, ?, ?, ?)\n",
    "    ''', locations_data)\n",
    "\n",
    "    cursor.executemany('''\n",
    "        INSERT INTO CareGuides (GuideID, FlowerID, LightRequirements, WateringSchedule, SoilType, PruningInfo)\n",
    "        VALUES (?, ?, ?, ?, ?, ?)\n",
    "    ''', care_guides_data)\n",
    "\n",
    "    cursor.executemany('''\n",
    "        INSERT INTO Purchases (PurchaseID, FlowerID, LocationID, PurchaseDate, Quantity, TotalCost)\n",
    "        VALUES (?, ?, ?, ?, ?, ?)\n",
    "    ''', purchases_data)\n",
    "\n",
    "    conn.commit()\n",
    "    conn.close()\n",
    "\n",
    "if __name__ == '__main__':\n",
    "    db_path = 'flowers.db'  # Change this to your actual database path\n",
    "    insert_imaginary_data(db_path)\n",
    "    print(\"Imaginary data inserted successfully.\")\n"
   ]
  }
 ],
 "metadata": {
  "kernelspec": {
   "display_name": "Python 3",
   "language": "python",
   "name": "python3"
  },
  "language_info": {
   "codemirror_mode": {
    "name": "ipython",
    "version": 3
   },
   "file_extension": ".py",
   "mimetype": "text/x-python",
   "name": "python",
   "nbconvert_exporter": "python",
   "pygments_lexer": "ipython3",
   "version": "3.11.5"
  },
  "orig_nbformat": 4
 },
 "nbformat": 4,
 "nbformat_minor": 2
}
