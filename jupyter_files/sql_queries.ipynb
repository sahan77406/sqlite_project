{
 "cells": [
  {
   "cell_type": "code",
   "execution_count": 19,
   "metadata": {},
   "outputs": [],
   "source": [
    "import os\n",
    "import sqlite3\n",
    "\n",
    "# Connect to the SQLite database (or create it if it doesn't exist)\n",
    "database_dir = os.path.abspath(os.path.join(os.getcwd(), \"..\", \"database\"))\n",
    "db_path = os.path.join(database_dir, 'flowers.db')\n",
    "conn = sqlite3.connect(db_path)\n",
    "cursor = conn.cursor()"
   ]
  },
  {
   "cell_type": "code",
   "execution_count": 21,
   "metadata": {},
   "outputs": [
    {
     "name": "stdout",
     "output_type": "stream",
     "text": [
      "FlowerID: 1\n",
      "CommonName: Rose\n",
      "ScientificName: Rosa\n",
      "Family: Rosaceae\n",
      "Color: Red\n",
      "BloomSeason: Spring\n",
      "------------------------------\n",
      "FlowerID: 2\n",
      "CommonName: Tulip\n",
      "ScientificName: Tulipa\n",
      "Family: Liliaceae\n",
      "Color: Various\n",
      "BloomSeason: Spring\n",
      "------------------------------\n",
      "FlowerID: 3\n",
      "CommonName: Sunflower\n",
      "ScientificName: Helianthus\n",
      "Family: Asteraceae\n",
      "Color: Yellow\n",
      "BloomSeason: Summer\n",
      "------------------------------\n",
      "FlowerID: 4\n",
      "CommonName: Lily\n",
      "ScientificName: Lilium\n",
      "Family: Liliaceae\n",
      "Color: White\n",
      "BloomSeason: Summer\n",
      "------------------------------\n",
      "FlowerID: 5\n",
      "CommonName: Daisy\n",
      "ScientificName: Bellis\n",
      "Family: Asteraceae\n",
      "Color: White\n",
      "BloomSeason: Spring\n",
      "------------------------------\n"
     ]
    }
   ],
   "source": [
    "# SQL SELECT\n",
    "cursor.execute('SELECT * FROM Flowers')\n",
    "select_result = cursor.fetchall()\n",
    "\n",
    "# Print the result in a formatted way\n",
    "for row in select_result:\n",
    "    print(\"FlowerID:\", row[0])\n",
    "    print(\"CommonName:\", row[1])\n",
    "    print(\"ScientificName:\", row[2])\n",
    "    print(\"Family:\", row[3])\n",
    "    print(\"Color:\", row[4])\n",
    "    print(\"BloomSeason:\", row[5])\n",
    "    print(\"-\" * 30)  # Separator between rows\n",
    "\n",
    "# Close the cursor and connection\n",
    "# cursor.close()\n",
    "# conn.close()"
   ]
  },
  {
   "cell_type": "code",
   "execution_count": 22,
   "metadata": {},
   "outputs": [
    {
     "name": "stdout",
     "output_type": "stream",
     "text": [
      "Distinct Colors:\n",
      "Red\n",
      "Various\n",
      "Yellow\n",
      "White\n"
     ]
    }
   ],
   "source": [
    "# SQL SELECT DISTINCT\n",
    "cursor.execute('SELECT DISTINCT Color FROM Flowers')\n",
    "distinct_result = cursor.fetchall()\n",
    "\n",
    "# Print the distinct colors\n",
    "print(\"Distinct Colors:\")\n",
    "for row in distinct_result:\n",
    "    print(row[0])\n",
    "\n",
    "# Close the cursor and connection\n",
    "# cursor.close()\n",
    "# conn.close()"
   ]
  },
  {
   "cell_type": "code",
   "execution_count": 23,
   "metadata": {},
   "outputs": [
    {
     "name": "stdout",
     "output_type": "stream",
     "text": [
      "Flowers Blooming in Spring:\n",
      "FlowerID: 1\n",
      "CommonName: Rose\n",
      "ScientificName: Rosa\n",
      "Family: Rosaceae\n",
      "Color: Red\n",
      "BloomSeason: Spring\n",
      "------------------------------\n",
      "FlowerID: 2\n",
      "CommonName: Tulip\n",
      "ScientificName: Tulipa\n",
      "Family: Liliaceae\n",
      "Color: Various\n",
      "BloomSeason: Spring\n",
      "------------------------------\n",
      "FlowerID: 5\n",
      "CommonName: Daisy\n",
      "ScientificName: Bellis\n",
      "Family: Asteraceae\n",
      "Color: White\n",
      "BloomSeason: Spring\n",
      "------------------------------\n"
     ]
    }
   ],
   "source": [
    "# SQL WHERE\n",
    "cursor.execute(\"SELECT * FROM Flowers WHERE BloomSeason = 'Spring'\")\n",
    "where_result = cursor.fetchall()\n",
    "\n",
    "# Print the result in a formatted way\n",
    "print(\"Flowers Blooming in Spring:\")\n",
    "for row in where_result:\n",
    "    print(\"FlowerID:\", row[0])\n",
    "    print(\"CommonName:\", row[1])\n",
    "    print(\"ScientificName:\", row[2])\n",
    "    print(\"Family:\", row[3])\n",
    "    print(\"Color:\", row[4])\n",
    "    print(\"BloomSeason:\", row[5])\n",
    "    print(\"-\" * 30)  # Separator between rows\n",
    "\n",
    "# Close the cursor and connection\n",
    "# cursor.close()\n",
    "# conn.close()\n"
   ]
  },
  {
   "cell_type": "code",
   "execution_count": 24,
   "metadata": {},
   "outputs": [
    {
     "name": "stdout",
     "output_type": "stream",
     "text": [
      "Flowers Ordered by CommonName:\n",
      "FlowerID: 5\n",
      "CommonName: Daisy\n",
      "ScientificName: Bellis\n",
      "Family: Asteraceae\n",
      "Color: White\n",
      "BloomSeason: Spring\n",
      "------------------------------\n",
      "FlowerID: 4\n",
      "CommonName: Lily\n",
      "ScientificName: Lilium\n",
      "Family: Liliaceae\n",
      "Color: White\n",
      "BloomSeason: Summer\n",
      "------------------------------\n",
      "FlowerID: 1\n",
      "CommonName: Rose\n",
      "ScientificName: Rosa\n",
      "Family: Rosaceae\n",
      "Color: Red\n",
      "BloomSeason: Spring\n",
      "------------------------------\n",
      "FlowerID: 3\n",
      "CommonName: Sunflower\n",
      "ScientificName: Helianthus\n",
      "Family: Asteraceae\n",
      "Color: Yellow\n",
      "BloomSeason: Summer\n",
      "------------------------------\n",
      "FlowerID: 2\n",
      "CommonName: Tulip\n",
      "ScientificName: Tulipa\n",
      "Family: Liliaceae\n",
      "Color: Various\n",
      "BloomSeason: Spring\n",
      "------------------------------\n"
     ]
    }
   ],
   "source": [
    "# SQL ORDER BY\n",
    "cursor.execute('SELECT * FROM Flowers ORDER BY CommonName ASC')\n",
    "order_by_result = cursor.fetchall()\n",
    "\n",
    "# Print the result in a formatted way\n",
    "print(\"Flowers Ordered by CommonName:\")\n",
    "for row in order_by_result:\n",
    "    print(\"FlowerID:\", row[0])\n",
    "    print(\"CommonName:\", row[1])\n",
    "    print(\"ScientificName:\", row[2])\n",
    "    print(\"Family:\", row[3])\n",
    "    print(\"Color:\", row[4])\n",
    "    print(\"BloomSeason:\", row[5])\n",
    "    print(\"-\" * 30)  # Separator between rows\n",
    "\n",
    "# Close the cursor and connection\n",
    "# cursor.close()\n",
    "# conn.close()\n"
   ]
  },
  {
   "cell_type": "code",
   "execution_count": 25,
   "metadata": {},
   "outputs": [
    {
     "name": "stdout",
     "output_type": "stream",
     "text": [
      "Red Flowers Blooming in Spring:\n",
      "FlowerID: 1\n",
      "CommonName: Rose\n",
      "ScientificName: Rosa\n",
      "Family: Rosaceae\n",
      "Color: Red\n",
      "BloomSeason: Spring\n",
      "------------------------------\n"
     ]
    }
   ],
   "source": [
    "# SQL AND\n",
    "cursor.execute(\"SELECT * FROM Flowers WHERE Color = 'Red' AND BloomSeason = 'Spring'\")\n",
    "and_result = cursor.fetchall()\n",
    "\n",
    "# Print the result in a formatted way\n",
    "print(\"Red Flowers Blooming in Spring:\")\n",
    "for row in and_result:\n",
    "    print(\"FlowerID:\", row[0])\n",
    "    print(\"CommonName:\", row[1])\n",
    "    print(\"ScientificName:\", row[2])\n",
    "    print(\"Family:\", row[3])\n",
    "    print(\"Color:\", row[4])\n",
    "    print(\"BloomSeason:\", row[5])\n",
    "    print(\"-\" * 30)  # Separator between rows\n",
    "\n",
    "# Close the cursor and connection\n",
    "# cursor.close()\n",
    "# conn.close()\n"
   ]
  },
  {
   "cell_type": "code",
   "execution_count": 26,
   "metadata": {},
   "outputs": [
    {
     "name": "stdout",
     "output_type": "stream",
     "text": [
      "Red or White Flowers:\n",
      "FlowerID: 1\n",
      "CommonName: Rose\n",
      "ScientificName: Rosa\n",
      "Family: Rosaceae\n",
      "Color: Red\n",
      "BloomSeason: Spring\n",
      "------------------------------\n",
      "FlowerID: 4\n",
      "CommonName: Lily\n",
      "ScientificName: Lilium\n",
      "Family: Liliaceae\n",
      "Color: White\n",
      "BloomSeason: Summer\n",
      "------------------------------\n",
      "FlowerID: 5\n",
      "CommonName: Daisy\n",
      "ScientificName: Bellis\n",
      "Family: Asteraceae\n",
      "Color: White\n",
      "BloomSeason: Spring\n",
      "------------------------------\n"
     ]
    }
   ],
   "source": [
    "# SQL OR\n",
    "cursor.execute(\"SELECT * FROM Flowers WHERE Color = 'Red' OR Color = 'White'\")\n",
    "or_result = cursor.fetchall()\n",
    "\n",
    "# Print the result in a formatted way\n",
    "print(\"Red or White Flowers:\")\n",
    "for row in or_result:\n",
    "    print(\"FlowerID:\", row[0])\n",
    "    print(\"CommonName:\", row[1])\n",
    "    print(\"ScientificName:\", row[2])\n",
    "    print(\"Family:\", row[3])\n",
    "    print(\"Color:\", row[4])\n",
    "    print(\"BloomSeason:\", row[5])\n",
    "    print(\"-\" * 30)  # Separator between rows\n",
    "\n",
    "# Close the cursor and connection\n",
    "# cursor.close()\n",
    "# conn.close()\n"
   ]
  },
  {
   "cell_type": "code",
   "execution_count": 27,
   "metadata": {},
   "outputs": [
    {
     "name": "stdout",
     "output_type": "stream",
     "text": [
      "Non-Red Flowers:\n",
      "FlowerID: 2\n",
      "CommonName: Tulip\n",
      "ScientificName: Tulipa\n",
      "Family: Liliaceae\n",
      "Color: Various\n",
      "BloomSeason: Spring\n",
      "------------------------------\n",
      "FlowerID: 3\n",
      "CommonName: Sunflower\n",
      "ScientificName: Helianthus\n",
      "Family: Asteraceae\n",
      "Color: Yellow\n",
      "BloomSeason: Summer\n",
      "------------------------------\n",
      "FlowerID: 4\n",
      "CommonName: Lily\n",
      "ScientificName: Lilium\n",
      "Family: Liliaceae\n",
      "Color: White\n",
      "BloomSeason: Summer\n",
      "------------------------------\n",
      "FlowerID: 5\n",
      "CommonName: Daisy\n",
      "ScientificName: Bellis\n",
      "Family: Asteraceae\n",
      "Color: White\n",
      "BloomSeason: Spring\n",
      "------------------------------\n"
     ]
    }
   ],
   "source": [
    "# SQL NOT\n",
    "cursor.execute(\"SELECT * FROM Flowers WHERE NOT Color = 'Red'\")\n",
    "not_result = cursor.fetchall()\n",
    "\n",
    "# Print the result in a formatted way\n",
    "print(\"Non-Red Flowers:\")\n",
    "for row in not_result:\n",
    "    print(\"FlowerID:\", row[0])\n",
    "    print(\"CommonName:\", row[1])\n",
    "    print(\"ScientificName:\", row[2])\n",
    "    print(\"Family:\", row[3])\n",
    "    print(\"Color:\", row[4])\n",
    "    print(\"BloomSeason:\", row[5])\n",
    "    print(\"-\" * 30)  # Separator between rows\n",
    "\n",
    "# Close the cursor and connection\n",
    "# cursor.close()\n",
    "# conn.close()\n"
   ]
  },
  {
   "cell_type": "code",
   "execution_count": 28,
   "metadata": {},
   "outputs": [
    {
     "name": "stdout",
     "output_type": "stream",
     "text": [
      "New flower inserted successfully!\n"
     ]
    }
   ],
   "source": [
    "# SQL INSERT INTO\n",
    "insert_query = '''\n",
    "    INSERT INTO Flowers (FlowerID, CommonName, ScientificName, Family, Color, BloomSeason)\n",
    "    VALUES (?, ?, ?, ?, ?, ?)\n",
    "'''\n",
    "new_flower_data = (6, 'Carnation', 'Dianthus', 'Caryophyllaceae', 'Pink', 'Summer')\n",
    "cursor.execute(insert_query, new_flower_data)\n",
    "conn.commit()\n",
    "\n",
    "# Print a message indicating the insertion\n",
    "print(\"New flower inserted successfully!\")\n",
    "\n",
    "# Close the cursor and connection\n",
    "# cursor.close()\n",
    "# conn.close()\n"
   ]
  },
  {
   "cell_type": "code",
   "execution_count": 29,
   "metadata": {},
   "outputs": [
    {
     "name": "stdout",
     "output_type": "stream",
     "text": [
      "Inserted Flower Data:\n",
      "FlowerID: 6\n",
      "CommonName: Carnation\n",
      "ScientificName: Dianthus\n",
      "Family: Caryophyllaceae\n",
      "Color: Pink\n",
      "BloomSeason: Summer\n"
     ]
    }
   ],
   "source": [
    "# SQL SELECT to fetch the inserted data\n",
    "select_inserted_flower_query = '''\n",
    "    SELECT *\n",
    "    FROM Flowers\n",
    "    WHERE FlowerID = ?\n",
    "'''\n",
    "inserted_flower_id = 6\n",
    "cursor.execute(select_inserted_flower_query, (inserted_flower_id,))\n",
    "inserted_flower_data = cursor.fetchone()\n",
    "\n",
    "# Print the inserted flower data\n",
    "if inserted_flower_data:\n",
    "    print(\"Inserted Flower Data:\")\n",
    "    print(\"FlowerID:\", inserted_flower_data[0])\n",
    "    print(\"CommonName:\", inserted_flower_data[1])\n",
    "    print(\"ScientificName:\", inserted_flower_data[2])\n",
    "    print(\"Family:\", inserted_flower_data[3])\n",
    "    print(\"Color:\", inserted_flower_data[4])\n",
    "    print(\"BloomSeason:\", inserted_flower_data[5])\n",
    "else:\n",
    "    print(\"Inserted flower not found!\")\n",
    "\n",
    "# Close the cursor and connection\n",
    "# cursor.close()\n",
    "# conn.close()"
   ]
  },
  {
   "cell_type": "code",
   "execution_count": 30,
   "metadata": {},
   "outputs": [
    {
     "name": "stdout",
     "output_type": "stream",
     "text": [
      "Flower color updated successfully!\n"
     ]
    }
   ],
   "source": [
    "# SQL UPDATE\n",
    "update_query = \"UPDATE Flowers SET Color = 'Yellow' WHERE FlowerID = ?\"\n",
    "flower_id_to_update = 3\n",
    "cursor.execute(update_query, (flower_id_to_update,))\n",
    "conn.commit()\n",
    "\n",
    "# Print a message indicating the update\n",
    "print(\"Flower color updated successfully!\")\n",
    "\n",
    "# Close the cursor and connection\n",
    "# cursor.close()\n",
    "# conn.close()\n"
   ]
  },
  {
   "cell_type": "code",
   "execution_count": 31,
   "metadata": {},
   "outputs": [
    {
     "name": "stdout",
     "output_type": "stream",
     "text": [
      "Updated Flower Data:\n",
      "FlowerID: 3\n",
      "CommonName: Sunflower\n",
      "ScientificName: Helianthus\n",
      "Family: Asteraceae\n",
      "Color: Yellow\n",
      "BloomSeason: Summer\n"
     ]
    }
   ],
   "source": [
    "# SQL SELECT to fetch the updated data\n",
    "select_updated_flower_query = '''\n",
    "    SELECT *\n",
    "    FROM Flowers\n",
    "    WHERE FlowerID = ?\n",
    "'''\n",
    "cursor.execute(select_updated_flower_query, (flower_id_to_update,))\n",
    "updated_flower_data = cursor.fetchone()\n",
    "\n",
    "# Print the updated flower data\n",
    "if updated_flower_data:\n",
    "    print(\"Updated Flower Data:\")\n",
    "    print(\"FlowerID:\", updated_flower_data[0])\n",
    "    print(\"CommonName:\", updated_flower_data[1])\n",
    "    print(\"ScientificName:\", updated_flower_data[2])\n",
    "    print(\"Family:\", updated_flower_data[3])\n",
    "    print(\"Color:\", updated_flower_data[4])\n",
    "    print(\"BloomSeason:\", updated_flower_data[5])\n",
    "else:\n",
    "    print(\"Updated flower not found!\")\n",
    "\n",
    "# Close the cursor and connection\n",
    "# cursor.close()\n",
    "# conn.close()"
   ]
  },
  {
   "cell_type": "code",
   "execution_count": 32,
   "metadata": {},
   "outputs": [
    {
     "name": "stdout",
     "output_type": "stream",
     "text": [
      "Flower deleted successfully!\n"
     ]
    }
   ],
   "source": [
    "# SQL DELETE\n",
    "delete_query = \"DELETE FROM Flowers WHERE FlowerID = ?\"\n",
    "flower_id_to_delete = 4\n",
    "cursor.execute(delete_query, (flower_id_to_delete,))\n",
    "conn.commit()\n",
    "\n",
    "# Print a message indicating the deletion\n",
    "print(\"Flower deleted successfully!\")\n",
    "\n",
    "# Close the cursor and connection\n",
    "# cursor.close()\n",
    "# conn.close()\n"
   ]
  },
  {
   "cell_type": "code",
   "execution_count": 33,
   "metadata": {},
   "outputs": [
    {
     "name": "stdout",
     "output_type": "stream",
     "text": [
      "Flowers Count Grouped by BloomSeason:\n",
      "BloomSeason: Spring\n",
      "Count: 3\n",
      "------------------------------\n",
      "BloomSeason: Summer\n",
      "Count: 2\n",
      "------------------------------\n"
     ]
    }
   ],
   "source": [
    "# SQL GROUP BY\n",
    "cursor.execute('SELECT BloomSeason, COUNT(*) FROM Flowers GROUP BY BloomSeason')\n",
    "group_by_result = cursor.fetchall()\n",
    "\n",
    "# Print the result in a formatted way\n",
    "print(\"Flowers Count Grouped by BloomSeason:\")\n",
    "for row in group_by_result:\n",
    "    print(\"BloomSeason:\", row[0])\n",
    "    print(\"Count:\", row[1])\n",
    "    print(\"-\" * 30)  # Separator between rows\n",
    "\n",
    "# Close the cursor and connection\n",
    "# cursor.close()\n",
    "# conn.close()\n"
   ]
  },
  {
   "cell_type": "code",
   "execution_count": 34,
   "metadata": {},
   "outputs": [
    {
     "name": "stdout",
     "output_type": "stream",
     "text": [
      "BloomSeasons with At Least 2 Flowers:\n",
      "BloomSeason: Spring\n",
      "Count: 3\n",
      "------------------------------\n",
      "BloomSeason: Summer\n",
      "Count: 2\n",
      "------------------------------\n"
     ]
    }
   ],
   "source": [
    "# SQL HAVING\n",
    "cursor.execute('SELECT BloomSeason, COUNT(*) FROM Flowers GROUP BY BloomSeason HAVING COUNT(*) >= 2')\n",
    "having_result = cursor.fetchall()\n",
    "\n",
    "# Print the result in a formatted way\n",
    "print(\"BloomSeasons with At Least 2 Flowers:\")\n",
    "for row in having_result:\n",
    "    print(\"BloomSeason:\", row[0])\n",
    "    print(\"Count:\", row[1])\n",
    "    print(\"-\" * 30)  # Separator between rows\n",
    "\n",
    "# Close the cursor and connection\n",
    "# cursor.close()\n",
    "# conn.close()\n"
   ]
  },
  {
   "cell_type": "code",
   "execution_count": 35,
   "metadata": {},
   "outputs": [
    {
     "name": "stdout",
     "output_type": "stream",
     "text": [
      "Flowers with 'flower' in CommonName:\n",
      "FlowerID: 3\n",
      "CommonName: Sunflower\n",
      "ScientificName: Helianthus\n",
      "Family: Asteraceae\n",
      "Color: Yellow\n",
      "BloomSeason: Summer\n",
      "------------------------------\n"
     ]
    }
   ],
   "source": [
    "# SQL LIKE\n",
    "cursor.execute(\"SELECT * FROM Flowers WHERE CommonName LIKE '%flower%'\")\n",
    "like_result = cursor.fetchall()\n",
    "\n",
    "# Print the result in a formatted way\n",
    "print(\"Flowers with 'flower' in CommonName:\")\n",
    "for row in like_result:\n",
    "    print(\"FlowerID:\", row[0])\n",
    "    print(\"CommonName:\", row[1])\n",
    "    print(\"ScientificName:\", row[2])\n",
    "    print(\"Family:\", row[3])\n",
    "    print(\"Color:\", row[4])\n",
    "    print(\"BloomSeason:\", row[5])\n",
    "    print(\"-\" * 30)  # Separator between rows\n",
    "\n",
    "# Close the cursor and connection\n",
    "# cursor.close()\n",
    "# conn.close()"
   ]
  },
  {
   "cell_type": "code",
   "execution_count": 36,
   "metadata": {},
   "outputs": [
    {
     "name": "stdout",
     "output_type": "stream",
     "text": [
      "Red or White Flowers:\n",
      "FlowerID: 1\n",
      "CommonName: Rose\n",
      "ScientificName: Rosa\n",
      "Family: Rosaceae\n",
      "Color: Red\n",
      "BloomSeason: Spring\n",
      "------------------------------\n",
      "FlowerID: 5\n",
      "CommonName: Daisy\n",
      "ScientificName: Bellis\n",
      "Family: Asteraceae\n",
      "Color: White\n",
      "BloomSeason: Spring\n",
      "------------------------------\n"
     ]
    }
   ],
   "source": [
    "# SQL IN\n",
    "cursor.execute(\"SELECT * FROM Flowers WHERE Color IN ('Red', 'White')\")\n",
    "in_result = cursor.fetchall()\n",
    "\n",
    "# Print the result in a formatted way\n",
    "print(\"Red or White Flowers:\")\n",
    "for row in in_result:\n",
    "    print(\"FlowerID:\", row[0])\n",
    "    print(\"CommonName:\", row[1])\n",
    "    print(\"ScientificName:\", row[2])\n",
    "    print(\"Family:\", row[3])\n",
    "    print(\"Color:\", row[4])\n",
    "    print(\"BloomSeason:\", row[5])\n",
    "    print(\"-\" * 30)  # Separator between rows\n",
    "\n",
    "# Close the cursor and connection\n",
    "# cursor.close()\n",
    "# conn.close()\n"
   ]
  }
 ],
 "metadata": {
  "kernelspec": {
   "display_name": "Python 3",
   "language": "python",
   "name": "python3"
  },
  "language_info": {
   "codemirror_mode": {
    "name": "ipython",
    "version": 3
   },
   "file_extension": ".py",
   "mimetype": "text/x-python",
   "name": "python",
   "nbconvert_exporter": "python",
   "pygments_lexer": "ipython3",
   "version": "3.11.5"
  },
  "orig_nbformat": 4
 },
 "nbformat": 4,
 "nbformat_minor": 2
}
