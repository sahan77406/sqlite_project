{
 "cells": [
  {
   "cell_type": "code",
   "execution_count": 16,
   "metadata": {},
   "outputs": [],
   "source": [
    "import os\n",
    "import sqlite3\n",
    "import unittest\n",
    "\n",
    "# Function to create the tables\n",
    "def create_tables(db_path):\n",
    "    conn = sqlite3.connect(db_path)\n",
    "    cursor = conn.cursor()\n",
    "\n",
    "    cursor.execute('''\n",
    "        CREATE TABLE IF NOT EXISTS Flowers (\n",
    "            FlowerID INTEGER PRIMARY KEY,\n",
    "            CommonName TEXT,\n",
    "            ScientificName TEXT,\n",
    "            Family TEXT,\n",
    "            Color TEXT,\n",
    "            BloomSeason TEXT\n",
    "        )\n",
    "    ''')\n",
    "\n",
    "    cursor.execute('''\n",
    "        CREATE TABLE IF NOT EXISTS Locations (\n",
    "            LocationID INTEGER PRIMARY KEY,\n",
    "            LocationName TEXT,\n",
    "            City TEXT,\n",
    "            Country TEXT,\n",
    "            Climate TEXT,\n",
    "            Altitude INTEGER\n",
    "        )\n",
    "    ''')\n",
    "\n",
    "    cursor.execute('''\n",
    "        CREATE TABLE IF NOT EXISTS CareGuides (\n",
    "            GuideID INTEGER PRIMARY KEY,\n",
    "            FlowerID INTEGER,\n",
    "            LightRequirements TEXT,\n",
    "            WateringSchedule TEXT,\n",
    "            SoilType TEXT,\n",
    "            PruningInfo TEXT,\n",
    "            FOREIGN KEY (FlowerID) REFERENCES Flowers (FlowerID)\n",
    "        )\n",
    "    ''')\n",
    "\n",
    "    cursor.execute('''\n",
    "        CREATE TABLE IF NOT EXISTS Purchases (\n",
    "            PurchaseID INTEGER PRIMARY KEY,\n",
    "            FlowerID INTEGER,\n",
    "            LocationID INTEGER,\n",
    "            PurchaseDate TEXT,\n",
    "            Quantity INTEGER,\n",
    "            TotalCost REAL,\n",
    "            FOREIGN KEY (FlowerID) REFERENCES Flowers (FlowerID),\n",
    "            FOREIGN KEY (LocationID) REFERENCES Locations (LocationID)\n",
    "        )\n",
    "    ''')\n",
    "\n",
    "    conn.commit()\n",
    "    conn.close()\n",
    "\n"
   ]
  },
  {
   "cell_type": "code",
   "execution_count": 17,
   "metadata": {},
   "outputs": [
    {
     "name": "stdout",
     "output_type": "stream",
     "text": [
      "All tests passed.\n"
     ]
    }
   ],
   "source": [
    "# Test case to verify table creation\n",
    "def test_table_creation():\n",
    "    database_dir = os.path.abspath(os.path.join(os.getcwd(), \"..\", \"database\"))\n",
    "    db_path = os.path.join(database_dir, 'flowers.db')\n",
    "    # db_path = 'database\\flowers.db'  # Change this to your actual database path\n",
    "\n",
    "\n",
    "    create_tables(db_path)\n",
    "\n",
    "    conn = sqlite3.connect(db_path)\n",
    "    cursor = conn.cursor()\n",
    "\n",
    "    # Check if tables exist\n",
    "    cursor.execute(\"SELECT name FROM sqlite_master WHERE type='table';\")\n",
    "    tables = cursor.fetchall()\n",
    "    table_names = [table[0] for table in tables]\n",
    "\n",
    "    assert 'Flowers' in table_names, \"Table 'Flowers' does not exist.\"\n",
    "    assert 'Locations' in table_names, \"Table 'Locations' does not exist.\"\n",
    "    assert 'CareGuides' in table_names, \"Table 'CareGuides' does not exist.\"\n",
    "    assert 'Purchases' in table_names, \"Table 'Purchases' does not exist.\"\n",
    "\n",
    "    conn.close()\n",
    "\n",
    "if __name__ == '__main__':\n",
    "    test_table_creation()\n",
    "    print(\"All tests passed.\")"
   ]
  }
 ],
 "metadata": {
  "kernelspec": {
   "display_name": "Python 3",
   "language": "python",
   "name": "python3"
  },
  "language_info": {
   "codemirror_mode": {
    "name": "ipython",
    "version": 3
   },
   "file_extension": ".py",
   "mimetype": "text/x-python",
   "name": "python",
   "nbconvert_exporter": "python",
   "pygments_lexer": "ipython3",
   "version": "3.11.5"
  },
  "orig_nbformat": 4
 },
 "nbformat": 4,
 "nbformat_minor": 2
}
