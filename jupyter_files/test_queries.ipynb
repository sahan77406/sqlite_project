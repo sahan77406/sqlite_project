{
 "cells": [
  {
   "cell_type": "code",
   "execution_count": 1,
   "metadata": {},
   "outputs": [],
   "source": [
    "import os\n",
    "import sqlite3\n",
    "\n",
    "# Connect to the SQLite database (or create it if it doesn't exist)\n",
    "database_dir = os.path.abspath(os.path.join(os.getcwd(), \"..\", \"database\"))\n",
    "db_path = os.path.join(database_dir, 'flowers.db')\n",
    "conn = sqlite3.connect(db_path)\n",
    "cursor = conn.cursor()"
   ]
  },
  {
   "cell_type": "code",
   "execution_count": 5,
   "metadata": {},
   "outputs": [],
   "source": [
    "import sqlite3\n",
    "\n",
    "# Your data and database connection setup here...\n",
    "\n",
    "def test_retrieve_flower_data():\n",
    "    cursor.execute(\"SELECT * FROM Flowers\")\n",
    "    fetched_data = cursor.fetchall()\n",
    "    # print(len(fetched_data))\n",
    "    assert len(fetched_data) == 5\n",
    "    # Compare the fetched_data with flowers_data\n",
    "    # Add assertions here to compare data\n",
    "\n",
    "def test_retrieve_location_data():\n",
    "    cursor.execute(\"SELECT * FROM Locations\")\n",
    "    fetched_data = cursor.fetchall()\n",
    "    # assert len(fetched_data) == len(locations_data)\n",
    "    # Compare the fetched_data with locations_data\n",
    "    # Add assertions here to compare data\n",
    "\n",
    "# def test_retrieve_care_guides_data():\n",
    "#     cursor.execute(\"SELECT * FROM CareGuides\")\n",
    "#     fetched_data = cursor.fetchall()\n",
    "#     assert len(fetched_data) == len(care_guides_data)\n",
    "#     # Compare the fetched_data with care_guides_data\n",
    "#     # Add assertions here to compare data\n",
    "\n",
    "# def test_retrieve_purchases_data():\n",
    "#     cursor.execute(\"SELECT * FROM Purchases\")\n",
    "#     fetched_data = cursor.fetchall()\n",
    "#     assert len(fetched_data) == len(purchases_data)\n",
    "#     # Compare the fetched_data with purchases_data\n",
    "#     # Add assertions here to compare data\n",
    "\n",
    "def main():\n",
    "    # Call your test functions here\n",
    "    test_retrieve_flower_data()\n",
    "    # test_retrieve_location_data()\n",
    "    # test_retrieve_care_guides_data()\n",
    "    # test_retrieve_purchases_data()\n",
    "\n",
    "    # Close the cursor and connection\n",
    "    # cursor.close()\n",
    "    # conn.close()\n",
    "\n",
    "if __name__ == \"__main__\":\n",
    "    main()\n",
    "\n"
   ]
  }
 ],
 "metadata": {
  "kernelspec": {
   "display_name": "Python 3",
   "language": "python",
   "name": "python3"
  },
  "language_info": {
   "codemirror_mode": {
    "name": "ipython",
    "version": 3
   },
   "file_extension": ".py",
   "mimetype": "text/x-python",
   "name": "python",
   "nbconvert_exporter": "python",
   "pygments_lexer": "ipython3",
   "version": "3.11.5"
  },
  "orig_nbformat": 4
 },
 "nbformat": 4,
 "nbformat_minor": 2
}
